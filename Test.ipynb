{
 "cells": [
  {
   "cell_type": "code",
   "execution_count": 4,
   "metadata": {},
   "outputs": [],
   "source": [
    "import streamlit as st\n",
    "import pandas as pd\n",
    "import polars as pl\n",
    "import numpy as np\n",
    "import plotly.express as px\n",
    "import os\n",
    "from jupyter_dash import JupyterDash\n",
    "from dash import Dash, dcc, html, Input, Output, State\n",
    "from plotly.subplots import make_subplots\n",
    "import plotly.graph_objects as go\n",
    "import plotly.offline as plot\n",
    "import requests"
   ]
  },
  {
   "cell_type": "code",
   "execution_count": 5,
   "metadata": {},
   "outputs": [],
   "source": [
    "import plotly.io as pio\n",
    "\n",
    "pio.templates.default = \"seaborn\""
   ]
  },
  {
   "cell_type": "code",
   "execution_count": 6,
   "metadata": {},
   "outputs": [],
   "source": [
    "def read_feather(source_file):\n",
    "    feather_file_list = os.listdir(source_file)\n",
    "    df = pd.DataFrame()\n",
    "    for feather_files in feather_file_list:\n",
    "        if feather_files.endswith(\".feather\"):\n",
    "            strfile = source_file + feather_files\n",
    "            df1 = pd.read_feather(strfile)\n",
    "            df = pd.concat([df, df1], ignore_index=True, sort=False)\n",
    "    return df"
   ]
  },
  {
   "cell_type": "code",
   "execution_count": 11,
   "metadata": {},
   "outputs": [],
   "source": [
    "\n",
    "def load_data():\n",
    "    username = 'syduc993'\n",
    "    repository = 'Streanlit-Project'\n",
    "    folder = 'Data/Tonghop'\n",
    "\n",
    "    url = f'https://api.github.com/repos/{username}/{repository}/contents/{folder}'\n",
    "\n",
    "    response = requests.get(url)\n",
    "    contents = response.json()\n",
    "    df = pd.DataFrame()\n",
    "    # Loop through the contents of the folder\n",
    "    for item in contents:\n",
    "        # Check if the item is a file\n",
    "        if item['type'] == 'file':\n",
    "            # Get the name and download URL of the file\n",
    "            filename = item['name']\n",
    "            file_url = item['download_url']\n",
    "            # Do something with the file URL (e.g. download the file)\n",
    "            df1 = pd.read_feather(file_url)\n",
    "            df = pd.concat([df, df1], ignore_index=True, sort=False)\n",
    "    return df"
   ]
  },
  {
   "cell_type": "code",
   "execution_count": null,
   "metadata": {},
   "outputs": [],
   "source": [
    "df = load_data()"
   ]
  },
  {
   "cell_type": "code",
   "execution_count": 5,
   "metadata": {},
   "outputs": [
    {
     "name": "stdout",
     "output_type": "stream",
     "text": [
      "Dash is running on http://127.0.0.1:8050/\n",
      "\n"
     ]
    },
    {
     "data": {
      "text/html": [
       "\n",
       "        <iframe\n",
       "            width=\"100%\"\n",
       "            height=\"650\"\n",
       "            src=\"http://127.0.0.1:8050/\"\n",
       "            frameborder=\"0\"\n",
       "            allowfullscreen\n",
       "            \n",
       "        ></iframe>\n",
       "        "
      ],
      "text/plain": [
       "<IPython.lib.display.IFrame at 0x1e82370cb90>"
      ]
     },
     "metadata": {},
     "output_type": "display_data"
    }
   ],
   "source": [
    "app = JupyterDash(__name__)\n",
    "product_list = df['Tên sản phẩm'].unique().tolist()\n",
    "sub_group_list = df['Nhóm hàng'].unique().tolist()\n",
    "store_list = df['Mã siêu thị'].unique().tolist()\n",
    "app.layout = html.Div([\n",
    "    html.Div([\n",
    "        html.Div([\n",
    "            dcc.Dropdown(\n",
    "            sub_group_list,\n",
    "            sub_group_list[0],\n",
    "            id='sub_group_selected'\n",
    "            )],style={'flex': '3', 'margin-right': '10px'}),\n",
    "        html.Div([\n",
    "            dcc.Dropdown(\n",
    "            options=product_list,\n",
    "            value=product_list[0],\n",
    "            id='product_selected'\n",
    "            )],style={'flex': '4', 'margin-right': '10px'}),\n",
    "        html.Div([\n",
    "            dcc.Dropdown(\n",
    "            options=store_list,\n",
    "            value = store_list[0],\n",
    "            id='store_selected'\n",
    "        )],style={'flex': '2'}),\n",
    "    ], style={'display': 'flex', 'justify-content': 'flex-start', 'align-items': 'center'}),\n",
    "\n",
    "    dcc.Graph(id='graph-with-slider'),\n",
    "\n",
    "])\n",
    "\n",
    "@app.callback(\n",
    "    Output('graph-with-slider', 'figure'),\n",
    "    Input('store_selected', 'value'),\n",
    "    Input('sub_group_selected', 'value'),\n",
    "    Input('product_selected', 'value'),\n",
    "    State('store_selected', 'value'))\n",
    "def update_figure(store_selected,sub_group_selected,product_selected,store_state):\n",
    "\n",
    "    fig = make_subplots(rows=1, cols=2, subplot_titles=(\"Số lượng nhập sản phẩm\", \"Số lượng bán sản phẩm\"), horizontal_spacing=0.05)\n",
    "\n",
    "    if not store_state:\n",
    "        data_sale = pd.pivot_table(df[(df['Nhóm hàng']==sub_group_selected)&(df['Tên sản phẩm']==product_selected)],index=['Date'],values='Số lượng bán',aggfunc=np.sum).reset_index()\n",
    "        data_nhap = pd.pivot_table(df[(df['Nhóm hàng']==sub_group_selected)&(df['Tên sản phẩm']==product_selected)],index=['Date'],values='Số lượng nhập',aggfunc=np.sum).reset_index()\n",
    "    else:\n",
    "        data_sale = pd.pivot_table(df[(df['Nhóm hàng']==sub_group_selected)&(df['Tên sản phẩm']==product_selected)&(df['Mã siêu thị']==store_selected)],index=['Date'],values='Số lượng bán',aggfunc=np.sum).reset_index()\n",
    "        data_nhap = pd.pivot_table(df[(df['Nhóm hàng']==sub_group_selected)&(df['Tên sản phẩm']==product_selected)&(df['Mã siêu thị']==store_selected)],index=['Date'],values='Số lượng nhập',aggfunc=np.sum).reset_index()\n",
    "    if len(data_sale) == 0:\n",
    "        data_sale = pd.pivot_table(df,index=['Date'],values='Số lượng bán',aggfunc=np.sum).reset_index()\n",
    "    if len(data_nhap) == 0:\n",
    "        data_nhap = pd.pivot_table(df,index=['Date'],values='Số lượng nhập',aggfunc=np.sum).reset_index()\n",
    "\n",
    "    fig.add_trace(go.Scatter(x = data_nhap[\"Date\"], y = data_nhap[\"Số lượng nhập\"], fill='tozeroy',showlegend=False),row=1, col=1)\n",
    "    fig.add_trace(go.Scatter(x = data_sale[\"Date\"], y = data_sale[\"Số lượng bán\"], fill='tozeroy' ,showlegend=False),row=1, col=2)\n",
    "    \n",
    "    fig.update_layout(title='Biểu đồ số lượng bán và số lượng nhập sản phẩm')\n",
    "  \n",
    "    return fig\n",
    "\n",
    "\n",
    "if __name__ == '__main__':\n",
    "    app.run_server(mode='inline')\n"
   ]
  },
  {
   "cell_type": "code",
   "execution_count": 6,
   "metadata": {},
   "outputs": [],
   "source": [
    "# app.layout = html.Div([\n",
    "#     html.Div(\n",
    "#         [\n",
    "#             html.Div(\n",
    "#                 [\n",
    "#                     html.H6(\"\"\"Select your current industry\"\"\",\n",
    "#                             style={'margin-right': '2em'})\n",
    "#                 ],\n",
    "#             ),\n",
    "\n",
    "#             dcc.Dropdown(\n",
    "#                 id='business_area_dropdown',\n",
    "#                 options=[\n",
    "#                     {'label': 'Academia', 'value': 'academia'},\n",
    "#                     {'label': 'Energy', 'value': 'energy'},\n",
    "#                     {'label': 'Research', 'value': 'research'}\n",
    "#                 ],\n",
    "#                 placeholder=\"Select Business Area\",\n",
    "#                 style=dict(\n",
    "#                     width='40%',\n",
    "#                     verticalAlign=\"middle\"\n",
    "#                 )\n",
    "#             )\n",
    "#         ],\n",
    "#         style=dict(display='flex')\n",
    "#     ),\n",
    "\n",
    "#     html.Div(\n",
    "#         [\n",
    "#             html.Div(\n",
    "#                 [\n",
    "#                     html.H6(\"\"\"Are you happy where you are?\"\"\",\n",
    "#                             style={'margin-right': '2em'})\n",
    "#                 ],\n",
    "#             ),\n",
    "\n",
    "#             dcc.Dropdown(\n",
    "#                 id='search_preference',\n",
    "#                 options=[\n",
    "#                     {'label': 'Yes', 'value': 'yes'},\n",
    "#                     {'label': 'No', 'value': 'no'}\n",
    "#                 ],\n",
    "#                 placeholder=\"Select Answer\",\n",
    "#                 style=dict(\n",
    "#                     width='40%',\n",
    "#                     display='inline-block',\n",
    "#                     verticalAlign=\"middle\"\n",
    "#                 )\n",
    "#             )\n",
    "\n",
    "#         ],\n",
    "#         style=dict(display='flex')\n",
    "#     ), ],\n",
    "# )"
   ]
  }
 ],
 "metadata": {
  "kernelspec": {
   "display_name": "Python 3",
   "language": "python",
   "name": "python3"
  },
  "language_info": {
   "codemirror_mode": {
    "name": "ipython",
    "version": 3
   },
   "file_extension": ".py",
   "mimetype": "text/x-python",
   "name": "python",
   "nbconvert_exporter": "python",
   "pygments_lexer": "ipython3",
   "version": "3.11.3"
  },
  "orig_nbformat": 4
 },
 "nbformat": 4,
 "nbformat_minor": 2
}
